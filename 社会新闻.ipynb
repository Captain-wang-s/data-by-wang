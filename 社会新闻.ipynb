{
 "cells": [
  {
   "cell_type": "markdown",
   "metadata": {},
   "source": [
    "VRC SSE　SI　确定簇数不一致时以SI 为准\n",
    "SI 多数时为2，可以不去看2的值\n",
    "\n",
    "密度聚类里 聚类结果为-1 的表示孤立点"
   ]
  },
  {
   "cell_type": "code",
   "execution_count": 77,
   "metadata": {},
   "outputs": [],
   "source": [
    "import pandas as pd\n",
    "import jieba\n",
    "import numpy as np"
   ]
  },
  {
   "cell_type": "code",
   "execution_count": 78,
   "metadata": {},
   "outputs": [
    {
     "data": {
      "text/plain": [
       "'C:\\\\Users\\\\acer\\\\Desktop\\\\125\\\\python\\\\文本'"
      ]
     },
     "execution_count": 78,
     "metadata": {},
     "output_type": "execute_result"
    }
   ],
   "source": [
    "import os\n",
    "os.getcwd()"
   ]
  },
  {
   "cell_type": "code",
   "execution_count": 81,
   "metadata": {},
   "outputs": [],
   "source": [
    "d = pd.read_csv(\"社会新闻.csv\",engine=\"python\")\n",
    "d = d.loc[:,[\"ext5\",\"keywords\",\"title\"]]\n"
   ]
  },
  {
   "cell_type": "code",
   "execution_count": 89,
   "metadata": {
    "scrolled": false
   },
   "outputs": [
    {
     "data": {
      "text/html": [
       "<div>\n",
       "<style scoped>\n",
       "    .dataframe tbody tr th:only-of-type {\n",
       "        vertical-align: middle;\n",
       "    }\n",
       "\n",
       "    .dataframe tbody tr th {\n",
       "        vertical-align: top;\n",
       "    }\n",
       "\n",
       "    .dataframe thead th {\n",
       "        text-align: right;\n",
       "    }\n",
       "</style>\n",
       "<table border=\"1\" class=\"dataframe\">\n",
       "  <thead>\n",
       "    <tr style=\"text-align: right;\">\n",
       "      <th></th>\n",
       "      <th>ext5</th>\n",
       "      <th>keywords</th>\n",
       "    </tr>\n",
       "  </thead>\n",
       "  <tbody>\n",
       "    <tr>\n",
       "      <th>0</th>\n",
       "      <td>原标题：孩子打开冰箱，脸上缝38针！夏天到了，这些东西放进冰箱要慎重\\r\\n炎炎夏日，温度逐...</td>\n",
       "      <td>爆炸,冰箱,啤酒瓶</td>\n",
       "    </tr>\n",
       "    <tr>\n",
       "      <th>1</th>\n",
       "      <td>原标题：中科院研究生被高中同学连刺数刀身亡，却仅仅因为……\\r\\n来源：中国之声中科院研究生...</td>\n",
       "      <td>中科院,大学生,林森浩</td>\n",
       "    </tr>\n",
       "    <tr>\n",
       "      <th>2</th>\n",
       "      <td>中科院研究生被高中同学连刺数刀身亡，却仅仅因为……\\r\\n原创：中国之声中国之声今天中科院研...</td>\n",
       "      <td>中科院,大学生</td>\n",
       "    </tr>\n",
       "    <tr>\n",
       "      <th>3</th>\n",
       "      <td>原标题：那个亲手掐死两个女儿的父亲\\r\\n来源：中国新闻周刊男子自述杀两亲生女过程:同时掐两...</td>\n",
       "      <td>嫌疑人,肖珍,韦越</td>\n",
       "    </tr>\n",
       "    <tr>\n",
       "      <th>4</th>\n",
       "      <td>原标题：农业农村部：猪病毒“塞内卡”传入我国，各地应及时诊断报告\\r\\n农业农村部办公厅关于...</td>\n",
       "      <td>疫情,塞内卡,流行病</td>\n",
       "    </tr>\n",
       "  </tbody>\n",
       "</table>\n",
       "</div>"
      ],
      "text/plain": [
       "                                                ext5     keywords\n",
       "0  原标题：孩子打开冰箱，脸上缝38针！夏天到了，这些东西放进冰箱要慎重\\r\\n炎炎夏日，温度逐...    爆炸,冰箱,啤酒瓶\n",
       "1  原标题：中科院研究生被高中同学连刺数刀身亡，却仅仅因为……\\r\\n来源：中国之声中科院研究生...  中科院,大学生,林森浩\n",
       "2  中科院研究生被高中同学连刺数刀身亡，却仅仅因为……\\r\\n原创：中国之声中国之声今天中科院研...      中科院,大学生\n",
       "3  原标题：那个亲手掐死两个女儿的父亲\\r\\n来源：中国新闻周刊男子自述杀两亲生女过程:同时掐两...    嫌疑人,肖珍,韦越\n",
       "4  原标题：农业农村部：猪病毒“塞内卡”传入我国，各地应及时诊断报告\\r\\n农业农村部办公厅关于...   疫情,塞内卡,流行病"
      ]
     },
     "execution_count": 89,
     "metadata": {},
     "output_type": "execute_result"
    }
   ],
   "source": [
    "d.head()"
   ]
  },
  {
   "cell_type": "code",
   "execution_count": 88,
   "metadata": {},
   "outputs": [],
   "source": [
    "d.ext5 = np.where(d.ext5.isna(),d.title,np.where(d.title.isna(),d.ext5,d.ext5+d.title))\n",
    "d = d.iloc[:,:-1]"
   ]
  },
  {
   "cell_type": "code",
   "execution_count": 91,
   "metadata": {},
   "outputs": [],
   "source": [
    "d.ext5 = d.ext5.apply(lambda x:jieba.lcut(x))"
   ]
  },
  {
   "cell_type": "code",
   "execution_count": 104,
   "metadata": {},
   "outputs": [],
   "source": [
    "d.ext5 = d.ext5.apply(lambda x:pd.Series(x).str.replace(\"[\\\\d+ \\\\r\\\\n]\",\"\").values)  "
   ]
  },
  {
   "cell_type": "code",
   "execution_count": 107,
   "metadata": {},
   "outputs": [],
   "source": [
    "d.ext5 = d.ext5.apply(lambda x: pd.Series(x)[pd.Series(x).str.len()>1].values)"
   ]
  },
  {
   "cell_type": "code",
   "execution_count": 141,
   "metadata": {},
   "outputs": [
    {
     "data": {
      "text/plain": [
       "array(['标题', '孩子', '打开', '冰箱', '脸上', '夏天', '这些', '东西', '放进', '冰箱', '慎重',\n",
       "       '炎炎夏日', '温度', '逐渐', '上升', '今年', '夏天', '出新', '高度', '赶紧', '拿出', '一瓶',\n",
       "       '可乐', '压惊', '孩子', '冰箱', '脸上', '这些', '东西', '夏天', '冰箱', '慎重'],\n",
       "      dtype=object)"
      ]
     },
     "execution_count": 141,
     "metadata": {},
     "output_type": "execute_result"
    }
   ],
   "source": [
    "d.ext5[0] "
   ]
  },
  {
   "cell_type": "code",
   "execution_count": 123,
   "metadata": {
    "scrolled": true
   },
   "outputs": [
    {
     "data": {
      "text/html": [
       "<div>\n",
       "<style scoped>\n",
       "    .dataframe tbody tr th:only-of-type {\n",
       "        vertical-align: middle;\n",
       "    }\n",
       "\n",
       "    .dataframe tbody tr th {\n",
       "        vertical-align: top;\n",
       "    }\n",
       "\n",
       "    .dataframe thead th {\n",
       "        text-align: right;\n",
       "    }\n",
       "</style>\n",
       "<table border=\"1\" class=\"dataframe\">\n",
       "  <thead>\n",
       "    <tr style=\"text-align: right;\">\n",
       "      <th></th>\n",
       "      <th>ext5</th>\n",
       "      <th>keywords</th>\n",
       "      <th>标签</th>\n",
       "    </tr>\n",
       "  </thead>\n",
       "  <tbody>\n",
       "    <tr>\n",
       "      <th>0</th>\n",
       "      <td>[标题, 孩子, 打开, 冰箱, 脸上, 夏天, 这些, 东西, 放进, 冰箱, 慎重, 炎...</td>\n",
       "      <td>[爆炸, 冰箱, 啤酒瓶]</td>\n",
       "      <td>[冰箱, 夏天, 脸上]</td>\n",
       "    </tr>\n",
       "    <tr>\n",
       "      <th>1</th>\n",
       "      <td>[标题, 中科院, 研究生, 高中同学, 连刺, 数刀, 身亡, 仅仅, 因为, 来源, 中...</td>\n",
       "      <td>[中科院, 大学生, 林森浩]</td>\n",
       "      <td>[连刺, 研究生, 数刀]</td>\n",
       "    </tr>\n",
       "    <tr>\n",
       "      <th>2</th>\n",
       "      <td>[中科院, 研究生, 高中同学, 连刺, 数刀, 身亡, 仅仅, 因为, 原创, 中国, 之...</td>\n",
       "      <td>[中科院, 大学生]</td>\n",
       "      <td>[身亡, 高中同学, 之声]</td>\n",
       "    </tr>\n",
       "    <tr>\n",
       "      <th>3</th>\n",
       "      <td>[标题, 那个, 亲手, 掐死, 两个, 女儿, 父亲, 来源, 中国, 新闻周刊, 男子,...</td>\n",
       "      <td>[嫌疑人, 肖珍, 韦越]</td>\n",
       "      <td>[来源, 颈部, 两人]</td>\n",
       "    </tr>\n",
       "    <tr>\n",
       "      <th>4</th>\n",
       "      <td>[标题, 农业, 农村部, 病毒, 塞内, 传入, 我国, 各地, 及时, 诊断, 报告, ...</td>\n",
       "      <td>[疫情, 塞内卡, 流行病]</td>\n",
       "      <td>[病毒, 农村部, 塞内]</td>\n",
       "    </tr>\n",
       "  </tbody>\n",
       "</table>\n",
       "</div>"
      ],
      "text/plain": [
       "                                                ext5         keywords  \\\n",
       "0  [标题, 孩子, 打开, 冰箱, 脸上, 夏天, 这些, 东西, 放进, 冰箱, 慎重, 炎...    [爆炸, 冰箱, 啤酒瓶]   \n",
       "1  [标题, 中科院, 研究生, 高中同学, 连刺, 数刀, 身亡, 仅仅, 因为, 来源, 中...  [中科院, 大学生, 林森浩]   \n",
       "2  [中科院, 研究生, 高中同学, 连刺, 数刀, 身亡, 仅仅, 因为, 原创, 中国, 之...       [中科院, 大学生]   \n",
       "3  [标题, 那个, 亲手, 掐死, 两个, 女儿, 父亲, 来源, 中国, 新闻周刊, 男子,...    [嫌疑人, 肖珍, 韦越]   \n",
       "4  [标题, 农业, 农村部, 病毒, 塞内, 传入, 我国, 各地, 及时, 诊断, 报告, ...   [疫情, 塞内卡, 流行病]   \n",
       "\n",
       "               标签  \n",
       "0    [冰箱, 夏天, 脸上]  \n",
       "1   [连刺, 研究生, 数刀]  \n",
       "2  [身亡, 高中同学, 之声]  \n",
       "3    [来源, 颈部, 两人]  \n",
       "4   [病毒, 农村部, 塞内]  "
      ]
     },
     "execution_count": 123,
     "metadata": {},
     "output_type": "execute_result"
    }
   ],
   "source": [
    "d.head()"
   ]
  },
  {
   "cell_type": "code",
   "execution_count": 119,
   "metadata": {},
   "outputs": [],
   "source": [
    "d[\"标签\"]=d.ext5.apply(lambda x: list(pd.Series(x).value_counts()[:3].index))"
   ]
  },
  {
   "cell_type": "code",
   "execution_count": 122,
   "metadata": {},
   "outputs": [],
   "source": [
    "d.keywords = d.keywords.str.split(\",\")"
   ]
  },
  {
   "cell_type": "code",
   "execution_count": 131,
   "metadata": {},
   "outputs": [],
   "source": [
    "d= d.loc[~d.keywords.isna(),:]"
   ]
  },
  {
   "cell_type": "code",
   "execution_count": 135,
   "metadata": {},
   "outputs": [],
   "source": [
    "d[\"dui\"] = d.apply(lambda x: pd.Series(x[2]).isin(x[1]).sum()>0, axis=1)"
   ]
  },
  {
   "cell_type": "code",
   "execution_count": 137,
   "metadata": {
    "scrolled": true
   },
   "outputs": [
    {
     "data": {
      "text/html": [
       "<div>\n",
       "<style scoped>\n",
       "    .dataframe tbody tr th:only-of-type {\n",
       "        vertical-align: middle;\n",
       "    }\n",
       "\n",
       "    .dataframe tbody tr th {\n",
       "        vertical-align: top;\n",
       "    }\n",
       "\n",
       "    .dataframe thead th {\n",
       "        text-align: right;\n",
       "    }\n",
       "</style>\n",
       "<table border=\"1\" class=\"dataframe\">\n",
       "  <thead>\n",
       "    <tr style=\"text-align: right;\">\n",
       "      <th></th>\n",
       "      <th>ext5</th>\n",
       "      <th>keywords</th>\n",
       "      <th>标签</th>\n",
       "      <th>dui</th>\n",
       "    </tr>\n",
       "  </thead>\n",
       "  <tbody>\n",
       "    <tr>\n",
       "      <th>0</th>\n",
       "      <td>[标题, 孩子, 打开, 冰箱, 脸上, 夏天, 这些, 东西, 放进, 冰箱, 慎重, 炎...</td>\n",
       "      <td>[爆炸, 冰箱, 啤酒瓶]</td>\n",
       "      <td>[冰箱, 夏天, 脸上]</td>\n",
       "      <td>True</td>\n",
       "    </tr>\n",
       "    <tr>\n",
       "      <th>1</th>\n",
       "      <td>[标题, 中科院, 研究生, 高中同学, 连刺, 数刀, 身亡, 仅仅, 因为, 来源, 中...</td>\n",
       "      <td>[中科院, 大学生, 林森浩]</td>\n",
       "      <td>[连刺, 研究生, 数刀]</td>\n",
       "      <td>False</td>\n",
       "    </tr>\n",
       "    <tr>\n",
       "      <th>2</th>\n",
       "      <td>[中科院, 研究生, 高中同学, 连刺, 数刀, 身亡, 仅仅, 因为, 原创, 中国, 之...</td>\n",
       "      <td>[中科院, 大学生]</td>\n",
       "      <td>[身亡, 高中同学, 之声]</td>\n",
       "      <td>False</td>\n",
       "    </tr>\n",
       "    <tr>\n",
       "      <th>3</th>\n",
       "      <td>[标题, 那个, 亲手, 掐死, 两个, 女儿, 父亲, 来源, 中国, 新闻周刊, 男子,...</td>\n",
       "      <td>[嫌疑人, 肖珍, 韦越]</td>\n",
       "      <td>[来源, 颈部, 两人]</td>\n",
       "      <td>False</td>\n",
       "    </tr>\n",
       "    <tr>\n",
       "      <th>4</th>\n",
       "      <td>[标题, 农业, 农村部, 病毒, 塞内, 传入, 我国, 各地, 及时, 诊断, 报告, ...</td>\n",
       "      <td>[疫情, 塞内卡, 流行病]</td>\n",
       "      <td>[病毒, 农村部, 塞内]</td>\n",
       "      <td>False</td>\n",
       "    </tr>\n",
       "    <tr>\n",
       "      <th>5</th>\n",
       "      <td>[标题, 仪陇, 通报, 交警, 中队长, 警棍, 争执, 不当, 行为, 已约, 针对, ...</td>\n",
       "      <td>[仪陇, 警棍, 中队长]</td>\n",
       "      <td>[交警, 警棍, 争执]</td>\n",
       "      <td>True</td>\n",
       "    </tr>\n",
       "    <tr>\n",
       "      <th>6</th>\n",
       "      <td>[标题, 城管, 殴打, 小贩, 一个, 惩治, 粗暴, 执法, 样本, 曾几何时, 城管,...</td>\n",
       "      <td>[城管, 殴打, 小贩, 执法]</td>\n",
       "      <td>[城管, 样本, 小贩]</td>\n",
       "      <td>True</td>\n",
       "    </tr>\n",
       "    <tr>\n",
       "      <th>7</th>\n",
       "      <td>[标题, 乖乖女, 男友, 父母, 支持, 反对, 只要, 默默, 盯梢, 恋爱, 父母, ...</td>\n",
       "      <td>[乖乖女, 父母, 谈恋爱]</td>\n",
       "      <td>[父母, 男友, 乖乖女]</td>\n",
       "      <td>True</td>\n",
       "    </tr>\n",
       "    <tr>\n",
       "      <th>8</th>\n",
       "      <td>[标题, 老师, 扔书, 左眼, 致盲, 西安, 一中, 学生, 获赔, 万元, 西安, 晚...</td>\n",
       "      <td>[校方, 左眼, 中学生]</td>\n",
       "      <td>[左眼, 老师, 小张]</td>\n",
       "      <td>True</td>\n",
       "    </tr>\n",
       "    <tr>\n",
       "      <th>9</th>\n",
       "      <td>[标题, 墨西哥, 球迷, 世界杯赛, 场上, 辱骂, 德国, 门将, 同性恋, 该国, 足...</td>\n",
       "      <td>[世界杯, 墨西哥, 国际足联]</td>\n",
       "      <td>[墨西哥, 球迷, 德国]</td>\n",
       "      <td>True</td>\n",
       "    </tr>\n",
       "  </tbody>\n",
       "</table>\n",
       "</div>"
      ],
      "text/plain": [
       "                                                ext5          keywords  \\\n",
       "0  [标题, 孩子, 打开, 冰箱, 脸上, 夏天, 这些, 东西, 放进, 冰箱, 慎重, 炎...     [爆炸, 冰箱, 啤酒瓶]   \n",
       "1  [标题, 中科院, 研究生, 高中同学, 连刺, 数刀, 身亡, 仅仅, 因为, 来源, 中...   [中科院, 大学生, 林森浩]   \n",
       "2  [中科院, 研究生, 高中同学, 连刺, 数刀, 身亡, 仅仅, 因为, 原创, 中国, 之...        [中科院, 大学生]   \n",
       "3  [标题, 那个, 亲手, 掐死, 两个, 女儿, 父亲, 来源, 中国, 新闻周刊, 男子,...     [嫌疑人, 肖珍, 韦越]   \n",
       "4  [标题, 农业, 农村部, 病毒, 塞内, 传入, 我国, 各地, 及时, 诊断, 报告, ...    [疫情, 塞内卡, 流行病]   \n",
       "5  [标题, 仪陇, 通报, 交警, 中队长, 警棍, 争执, 不当, 行为, 已约, 针对, ...     [仪陇, 警棍, 中队长]   \n",
       "6  [标题, 城管, 殴打, 小贩, 一个, 惩治, 粗暴, 执法, 样本, 曾几何时, 城管,...  [城管, 殴打, 小贩, 执法]   \n",
       "7  [标题, 乖乖女, 男友, 父母, 支持, 反对, 只要, 默默, 盯梢, 恋爱, 父母, ...    [乖乖女, 父母, 谈恋爱]   \n",
       "8  [标题, 老师, 扔书, 左眼, 致盲, 西安, 一中, 学生, 获赔, 万元, 西安, 晚...     [校方, 左眼, 中学生]   \n",
       "9  [标题, 墨西哥, 球迷, 世界杯赛, 场上, 辱骂, 德国, 门将, 同性恋, 该国, 足...  [世界杯, 墨西哥, 国际足联]   \n",
       "\n",
       "               标签    dui  \n",
       "0    [冰箱, 夏天, 脸上]   True  \n",
       "1   [连刺, 研究生, 数刀]  False  \n",
       "2  [身亡, 高中同学, 之声]  False  \n",
       "3    [来源, 颈部, 两人]  False  \n",
       "4   [病毒, 农村部, 塞内]  False  \n",
       "5    [交警, 警棍, 争执]   True  \n",
       "6    [城管, 样本, 小贩]   True  \n",
       "7   [父母, 男友, 乖乖女]   True  \n",
       "8    [左眼, 老师, 小张]   True  \n",
       "9   [墨西哥, 球迷, 德国]   True  "
      ]
     },
     "execution_count": 137,
     "metadata": {},
     "output_type": "execute_result"
    }
   ],
   "source": [
    "d.head(10)"
   ]
  },
  {
   "cell_type": "code",
   "execution_count": 138,
   "metadata": {},
   "outputs": [
    {
     "data": {
      "text/plain": [
       "5777"
      ]
     },
     "execution_count": 138,
     "metadata": {},
     "output_type": "execute_result"
    }
   ],
   "source": [
    "d.dui.sum()"
   ]
  },
  {
   "cell_type": "code",
   "execution_count": 139,
   "metadata": {},
   "outputs": [
    {
     "data": {
      "text/plain": [
       "(8726, 4)"
      ]
     },
     "execution_count": 139,
     "metadata": {},
     "output_type": "execute_result"
    }
   ],
   "source": [
    "d.shape"
   ]
  },
  {
   "cell_type": "code",
   "execution_count": 140,
   "metadata": {},
   "outputs": [
    {
     "data": {
      "text/plain": [
       "0.6620444648177859"
      ]
     },
     "execution_count": 140,
     "metadata": {},
     "output_type": "execute_result"
    }
   ],
   "source": [
    "5777/8726"
   ]
  },
  {
   "cell_type": "code",
   "execution_count": 34,
   "metadata": {},
   "outputs": [],
   "source": [
    "d.ext5 = d.ext5.apply(lambda x:jieba.lcut(x))\n",
    "d.ext5 = d.ext5.apply(lambda x:pd.Series(x).str.replace(\"[\\\\d+ \\\\r\\\\n]\",\"\").values)\n",
    "d.ext5 = d.ext5.apply(lambda x:pd.Series(x)[pd.Series(x).str.len()>1].values)"
   ]
  },
  {
   "cell_type": "code",
   "execution_count": 1,
   "metadata": {},
   "outputs": [
    {
     "ename": "NameError",
     "evalue": "name 'd' is not defined",
     "output_type": "error",
     "traceback": [
      "\u001b[1;31m---------------------------------------------------------------------------\u001b[0m",
      "\u001b[1;31mNameError\u001b[0m                                 Traceback (most recent call last)",
      "\u001b[1;32m<ipython-input-1-dfd4bcb43d86>\u001b[0m in \u001b[0;36m<module>\u001b[1;34m\u001b[0m\n\u001b[1;32m----> 1\u001b[1;33m \u001b[0md\u001b[0m\u001b[1;33m[\u001b[0m\u001b[1;34m\"标签\"\u001b[0m\u001b[1;33m]\u001b[0m\u001b[1;33m=\u001b[0m\u001b[0md\u001b[0m\u001b[1;33m.\u001b[0m\u001b[0mext5\u001b[0m\u001b[1;33m.\u001b[0m\u001b[0mapply\u001b[0m\u001b[1;33m(\u001b[0m\u001b[1;32mlambda\u001b[0m \u001b[0mx\u001b[0m\u001b[1;33m:\u001b[0m \u001b[0mlist\u001b[0m\u001b[1;33m(\u001b[0m\u001b[0mpd\u001b[0m\u001b[1;33m.\u001b[0m\u001b[0mSeries\u001b[0m\u001b[1;33m(\u001b[0m\u001b[0mx\u001b[0m\u001b[1;33m)\u001b[0m\u001b[1;33m.\u001b[0m\u001b[0mvalue_counts\u001b[0m\u001b[1;33m(\u001b[0m\u001b[1;33m)\u001b[0m\u001b[1;33m[\u001b[0m\u001b[1;33m:\u001b[0m\u001b[1;36m3\u001b[0m\u001b[1;33m]\u001b[0m\u001b[1;33m.\u001b[0m\u001b[0mto_frame\u001b[0m\u001b[1;33m(\u001b[0m\u001b[1;33m)\u001b[0m\u001b[1;33m.\u001b[0m\u001b[0mindex\u001b[0m\u001b[1;33m)\u001b[0m\u001b[1;33m)\u001b[0m\u001b[1;33m\u001b[0m\u001b[1;33m\u001b[0m\u001b[0m\n\u001b[0m",
      "\u001b[1;31mNameError\u001b[0m: name 'd' is not defined"
     ]
    }
   ],
   "source": [
    "d[\"标签\"]=d.ext5.apply(lambda x: list(pd.Series(x).value_counts()[:3].to_frame().index))"
   ]
  },
  {
   "cell_type": "code",
   "execution_count": 53,
   "metadata": {},
   "outputs": [],
   "source": [
    "d.keywords=d.keywords.str.split(\",\")"
   ]
  },
  {
   "cell_type": "code",
   "execution_count": 69,
   "metadata": {},
   "outputs": [],
   "source": [
    "d = d.loc[~d.keywords.isna(),:]"
   ]
  },
  {
   "cell_type": "code",
   "execution_count": 75,
   "metadata": {},
   "outputs": [
    {
     "name": "stderr",
     "output_type": "stream",
     "text": [
      "c:\\users\\acer\\pycharmprojects\\base\\venv1\\lib\\site-packages\\ipykernel_launcher.py:1: SettingWithCopyWarning: \n",
      "A value is trying to be set on a copy of a slice from a DataFrame.\n",
      "Try using .loc[row_indexer,col_indexer] = value instead\n",
      "\n",
      "See the caveats in the documentation: http://pandas.pydata.org/pandas-docs/stable/indexing.html#indexing-view-versus-copy\n",
      "  \"\"\"Entry point for launching an IPython kernel.\n"
     ]
    }
   ],
   "source": [
    "d[\"dui\"]=d.apply(lambda x:pd.Series(x[2]).isin(x[1]).sum()>0,axis=1)"
   ]
  },
  {
   "cell_type": "code",
   "execution_count": 76,
   "metadata": {},
   "outputs": [
    {
     "data": {
      "text/plain": [
       "0.6620444648177859"
      ]
     },
     "execution_count": 76,
     "metadata": {},
     "output_type": "execute_result"
    }
   ],
   "source": [
    "d.dui.sum()/len(d)"
   ]
  },
  {
   "cell_type": "code",
   "execution_count": null,
   "metadata": {},
   "outputs": [],
   "source": []
  }
 ],
 "metadata": {
  "kernelspec": {
   "display_name": "Python 3",
   "language": "python",
   "name": "python3"
  },
  "language_info": {
   "codemirror_mode": {
    "name": "ipython",
    "version": 3
   },
   "file_extension": ".py",
   "mimetype": "text/x-python",
   "name": "python",
   "nbconvert_exporter": "python",
   "pygments_lexer": "ipython3",
   "version": "3.7.3"
  }
 },
 "nbformat": 4,
 "nbformat_minor": 2
}

import numpy as np
import pandas as pd

data=pd.read_excel('excel12.xlsx')
#修改
